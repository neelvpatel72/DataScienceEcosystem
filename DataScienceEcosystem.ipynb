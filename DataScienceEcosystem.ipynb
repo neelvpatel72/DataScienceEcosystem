{
 "cells": [
  {
   "cell_type": "markdown",
   "id": "05448dff-ca99-4165-b414-c3ebb08be1e9",
   "metadata": {},
   "source": [
    "# Data Science Tools and Ecosystem"
   ]
  },
  {
   "cell_type": "markdown",
   "id": "4ea39ec2-9bf1-4ed1-a790-2492cf4847a7",
   "metadata": {
    "editable": true,
    "slideshow": {
     "slide_type": ""
    },
    "tags": []
   },
   "source": [
    "In this notebook, Data Science Tools and Ecosystem are summarized.\n"
   ]
  },
  {
   "cell_type": "markdown",
   "id": "e12dfa2a-f5ed-4c45-84db-3e86d1f105ac",
   "metadata": {},
   "source": [
    "**Objectives:**\n",
    "- List popular languages for Data Science\n",
    "- List popular libraries in Data Science\n",
    "- Create a table with three open source tools for Data Science\n",
    "- Evaluating arithmetic expressions in Python\n",
    "- Converting minutes to hours"
   ]
  },
  {
   "cell_type": "markdown",
   "id": "5da2d94c-6172-454d-b49b-f8b50692dfe1",
   "metadata": {},
   "source": [
    "Some of the popular languages that Data Scientists use are:\r",
    "1. R\n",
    "2. Python\n",
    "3. SQL\n",
    "4. Java\n",
    "5. Julia\n",
    "6. Scala\r\n"
   ]
  },
  {
   "cell_type": "markdown",
   "id": "ebdc8bff-d22f-411d-987c-f32a5b470f34",
   "metadata": {},
   "source": [
    "Some of the commonly used libraries used by Data Scientists include:\r",
    "1. NumPy\n",
    "2. Matplotlib\n",
    "3. ggplot2\n",
    "4. dplyr\n",
    "5. Apache Spark\n",
    "\n"
   ]
  },
  {
   "cell_type": "markdown",
   "id": "c143aef3-104e-4f6d-8ab4-a20b5ced9c1b",
   "metadata": {},
   "source": [
    "| Development Environment Tools |\r\n",
    ":-------------------------------|\r\n",
    "| Jupyter Notebook              |\r\n",
    "| RStudio                       |\r\n",
    "| Visual Studio Code           |\r\n",
    "  |\r\n",
    "  |\r\n"
   ]
  },
  {
   "cell_type": "markdown",
   "id": "c1a8b56e-d275-4407-84f2-c2f9b22723ea",
   "metadata": {},
   "source": [
    "### Below are a few examples of evaluating arithmetic expressions in Python.\n"
   ]
  },
  {
   "cell_type": "code",
   "execution_count": 33,
   "id": "7331d302-65e9-42c7-91f5-481ca5022474",
   "metadata": {},
   "outputs": [
    {
     "data": {
      "text/plain": [
       "17"
      ]
     },
     "execution_count": 33,
     "metadata": {},
     "output_type": "execute_result"
    }
   ],
   "source": [
    "# This a simple arithmetic expression to mutiply then add integers\n",
    "(3*4)+5"
   ]
  },
  {
   "cell_type": "code",
   "execution_count": 41,
   "id": "ba928142-e12b-41ec-8a6c-5093ed181bf3",
   "metadata": {},
   "outputs": [
    {
     "data": {
      "text/plain": [
       "3.3333333333333335"
      ]
     },
     "execution_count": 41,
     "metadata": {},
     "output_type": "execute_result"
    }
   ],
   "source": [
    "# This will convert 200 minutes to hours by diving by 60\n",
    "minutes = 200\n",
    "hours = minutes / 60\n",
    "hours"
   ]
  },
  {
   "cell_type": "markdown",
   "id": "dbec2934-fcb6-4d6a-b55c-f2d69af5392d",
   "metadata": {},
   "source": [
    "## Author\n",
    "Neel Patel"
   ]
  }
 ],
 "metadata": {
  "kernelspec": {
   "display_name": "Python 3 (ipykernel)",
   "language": "python",
   "name": "python3"
  },
  "language_info": {
   "codemirror_mode": {
    "name": "ipython",
    "version": 3
   },
   "file_extension": ".py",
   "mimetype": "text/x-python",
   "name": "python",
   "nbconvert_exporter": "python",
   "pygments_lexer": "ipython3",
   "version": "3.11.7"
  }
 },
 "nbformat": 4,
 "nbformat_minor": 5
}
